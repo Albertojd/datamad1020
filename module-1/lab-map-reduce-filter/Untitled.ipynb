{
 "cells": [
  {
   "cell_type": "code",
   "execution_count": null,
   "metadata": {},
   "outputs": [],
   "source": [
    "def deleted(x):\n",
    "    print(len(x))\n",
    "    return x[568:]\n",
    "\n",
    "deleted(prophet)\n",
    "print(len(prophet))"
   ]
  },
  {
   "cell_type": "code",
   "execution_count": 1,
   "metadata": {},
   "outputs": [
    {
     "name": "stdout",
     "output_type": "stream",
     "text": [
      "Separado por espacios es: ['Hola', 'mundo']\n"
     ]
    }
   ],
   "source": [
    "\n",
    "cadena = \"Hola mundo\"\n",
    "separador = \" \"\n",
    "separado_por_espacios = cadena.split(separador)\n",
    "print(\"Separado por espacios es:\", separado_por_espacios)"
   ]
  },
  {
   "cell_type": "code",
   "execution_count": null,
   "metadata": {},
   "outputs": [],
   "source": [
    "def deleted568(x):\n",
    "    return x[568:]\n",
    "\n",
    "deleted568(prophet)\n",
    "print(len(prophet))"
   ]
  },
  {
   "cell_type": "code",
   "execution_count": null,
   "metadata": {},
   "outputs": [],
   "source": [
    " "
   ]
  }
 ],
 "metadata": {
  "kernelspec": {
   "display_name": "Python 3",
   "language": "python",
   "name": "python3"
  },
  "language_info": {
   "codemirror_mode": {
    "name": "ipython",
    "version": 3
   },
   "file_extension": ".py",
   "mimetype": "text/x-python",
   "name": "python",
   "nbconvert_exporter": "python",
   "pygments_lexer": "ipython3",
   "version": "3.8.3"
  }
 },
 "nbformat": 4,
 "nbformat_minor": 4
}

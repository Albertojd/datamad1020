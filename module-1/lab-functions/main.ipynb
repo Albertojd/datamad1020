{
 "cells": [
  {
   "cell_type": "markdown",
   "metadata": {},
   "source": [
    "# Functions"
   ]
  },
  {
   "cell_type": "markdown",
   "metadata": {},
   "source": [
    "On this lab we will put to practice some of the concepts we have learned on this past few days.\n",
    "\n",
    "`NOTE: On this lab you should try to write all the functions yourself using only the most basic of python syntax and without functions such as len, count, sum, max, min, in, etc. Give it a try. 🧑🏻‍💻👩🏻‍💻`\n",
    "\n",
    "The cell after each exercise contains a few tests to check if your function works as expected."
   ]
  },
  {
   "cell_type": "code",
   "execution_count": 3,
   "metadata": {},
   "outputs": [],
   "source": [
    "from mod.testing import *\n",
    "import unittest"
   ]
  },
  {
   "cell_type": "markdown",
   "metadata": {},
   "source": [
    "## 1. Write a function that returns the greater of two numbers"
   ]
  },
  {
   "cell_type": "code",
   "execution_count": 10,
   "metadata": {},
   "outputs": [],
   "source": [
    "def greater(a,b):\n",
    "    if a > b:\n",
    "        return a\n",
    "    else:\n",
    "        return b\n",
    "    pass"
   ]
  },
  {
   "cell_type": "code",
   "execution_count": 11,
   "metadata": {},
   "outputs": [
    {
     "name": "stderr",
     "output_type": "stream",
     "text": [
      "....................................................................................................\n",
      "----------------------------------------------------------------------\n",
      "Ran 100 tests in 0.336s\n",
      "\n",
      "OK\n"
     ]
    }
   ],
   "source": [
    "# This will test your function \n",
    "test_greater(greater)"
   ]
  },
  {
   "cell_type": "markdown",
   "metadata": {},
   "source": [
    "## 2. Now write a function that returns the largest element on a list"
   ]
  },
  {
   "cell_type": "code",
   "execution_count": 35,
   "metadata": {},
   "outputs": [],
   "source": [
    "def greatest(arr):\n",
    "    arr.sort()\n",
    "    return arr[-1]\n",
    "    pass"
   ]
  },
  {
   "cell_type": "code",
   "execution_count": 36,
   "metadata": {},
   "outputs": [
    {
     "name": "stderr",
     "output_type": "stream",
     "text": [
      "....................................................................................................\n",
      "----------------------------------------------------------------------\n",
      "Ran 100 tests in 0.347s\n",
      "\n",
      "OK\n"
     ]
    }
   ],
   "source": [
    "# This will test your function \n",
    "test_greatest(greatest)"
   ]
  },
  {
   "cell_type": "markdown",
   "metadata": {},
   "source": [
    "## 3. Write a function that sums all the elements on a list"
   ]
  },
  {
   "cell_type": "code",
   "execution_count": 39,
   "metadata": {},
   "outputs": [],
   "source": [
    "def sum_all(arr):\n",
    "    restul = 0\n",
    "    for i in arr:\n",
    "        restul+=i\n",
    "    return restul        \n",
    "    pass"
   ]
  },
  {
   "cell_type": "code",
   "execution_count": 40,
   "metadata": {},
   "outputs": [
    {
     "name": "stderr",
     "output_type": "stream",
     "text": [
      "....................................................................................................\n",
      "----------------------------------------------------------------------\n",
      "Ran 100 tests in 0.341s\n",
      "\n",
      "OK\n"
     ]
    }
   ],
   "source": [
    "# This will test your function \n",
    "test_sum(sum_all)"
   ]
  },
  {
   "cell_type": "markdown",
   "metadata": {},
   "source": [
    "## 4. Write another function that multiplies all the elements on a list"
   ]
  },
  {
   "cell_type": "code",
   "execution_count": 41,
   "metadata": {},
   "outputs": [],
   "source": [
    "def mult_all(arr):   \n",
    "    result = 1\n",
    "    for i in arr:\n",
    "         result = result * i\n",
    "    return result \n",
    "    pass"
   ]
  },
  {
   "cell_type": "code",
   "execution_count": 42,
   "metadata": {},
   "outputs": [
    {
     "name": "stderr",
     "output_type": "stream",
     "text": [
      "....................................................................................................\n",
      "----------------------------------------------------------------------\n",
      "Ran 100 tests in 0.421s\n",
      "\n",
      "OK\n"
     ]
    }
   ],
   "source": [
    "# This will test your function \n",
    "test_mult(mult_all)"
   ]
  },
  {
   "cell_type": "markdown",
   "metadata": {},
   "source": [
    "## 5. Now combine those two ideas and write a function that receives a list and either \"+\" or \"*\" and outputs acordingly"
   ]
  },
  {
   "cell_type": "code",
   "execution_count": 45,
   "metadata": {},
   "outputs": [],
   "source": [
    "def oper_all(arr, oper):\n",
    "    \n",
    "    pass"
   ]
  },
  {
   "cell_type": "code",
   "execution_count": 46,
   "metadata": {},
   "outputs": [
    {
     "name": "stderr",
     "output_type": "stream",
     "text": [
      "..F..FF...F.FFFFF.FFF...FFFFFFF..F..F.FFFF.FFF...FFF.....FF..FF.FF..F.FFF..FF..F.F..FF.F..F....F....\n",
      "======================================================================\n",
      "FAIL: runTest (mod.testing.test_operations.<locals>.TestKnown)\n",
      "----------------------------------------------------------------------\n",
      "Traceback (most recent call last):\n",
      "  File \"C:\\Users\\alber\\datamad1020\\module-1\\lab-functions\\mod\\testing.py\", line 78, in runTest\n",
      "    self.assertEqual(fn(*self.input), self.output, f\"Should be {self.output}\")\n",
      "AssertionError: 69 != 0 : Should be 0\n",
      "\n",
      "======================================================================\n",
      "FAIL: runTest (mod.testing.test_operations.<locals>.TestKnown)\n",
      "----------------------------------------------------------------------\n",
      "Traceback (most recent call last):\n",
      "  File \"C:\\Users\\alber\\datamad1020\\module-1\\lab-functions\\mod\\testing.py\", line 78, in runTest\n",
      "    self.assertEqual(fn(*self.input), self.output, f\"Should be {self.output}\")\n",
      "AssertionError: 21 != 0 : Should be 0\n",
      "\n",
      "======================================================================\n",
      "FAIL: runTest (mod.testing.test_operations.<locals>.TestKnown)\n",
      "----------------------------------------------------------------------\n",
      "Traceback (most recent call last):\n",
      "  File \"C:\\Users\\alber\\datamad1020\\module-1\\lab-functions\\mod\\testing.py\", line 78, in runTest\n",
      "    self.assertEqual(fn(*self.input), self.output, f\"Should be {self.output}\")\n",
      "AssertionError: 43 != 0 : Should be 0\n",
      "\n",
      "======================================================================\n",
      "FAIL: runTest (mod.testing.test_operations.<locals>.TestKnown)\n",
      "----------------------------------------------------------------------\n",
      "Traceback (most recent call last):\n",
      "  File \"C:\\Users\\alber\\datamad1020\\module-1\\lab-functions\\mod\\testing.py\", line 78, in runTest\n",
      "    self.assertEqual(fn(*self.input), self.output, f\"Should be {self.output}\")\n",
      "AssertionError: -34 != 0 : Should be 0\n",
      "\n",
      "======================================================================\n",
      "FAIL: runTest (mod.testing.test_operations.<locals>.TestKnown)\n",
      "----------------------------------------------------------------------\n",
      "Traceback (most recent call last):\n",
      "  File \"C:\\Users\\alber\\datamad1020\\module-1\\lab-functions\\mod\\testing.py\", line 78, in runTest\n",
      "    self.assertEqual(fn(*self.input), self.output, f\"Should be {self.output}\")\n",
      "AssertionError: 27 != 0 : Should be 0\n",
      "\n",
      "======================================================================\n",
      "FAIL: runTest (mod.testing.test_operations.<locals>.TestKnown)\n",
      "----------------------------------------------------------------------\n",
      "Traceback (most recent call last):\n",
      "  File \"C:\\Users\\alber\\datamad1020\\module-1\\lab-functions\\mod\\testing.py\", line 78, in runTest\n",
      "    self.assertEqual(fn(*self.input), self.output, f\"Should be {self.output}\")\n",
      "AssertionError: -6 != 0 : Should be 0\n",
      "\n",
      "======================================================================\n",
      "FAIL: runTest (mod.testing.test_operations.<locals>.TestKnown)\n",
      "----------------------------------------------------------------------\n",
      "Traceback (most recent call last):\n",
      "  File \"C:\\Users\\alber\\datamad1020\\module-1\\lab-functions\\mod\\testing.py\", line 78, in runTest\n",
      "    self.assertEqual(fn(*self.input), self.output, f\"Should be {self.output}\")\n",
      "AssertionError: 15 != -9033377955840000 : Should be -9033377955840000\n",
      "\n",
      "======================================================================\n",
      "FAIL: runTest (mod.testing.test_operations.<locals>.TestKnown)\n",
      "----------------------------------------------------------------------\n",
      "Traceback (most recent call last):\n",
      "  File \"C:\\Users\\alber\\datamad1020\\module-1\\lab-functions\\mod\\testing.py\", line 78, in runTest\n",
      "    self.assertEqual(fn(*self.input), self.output, f\"Should be {self.output}\")\n",
      "AssertionError: -62 != 0 : Should be 0\n",
      "\n",
      "======================================================================\n",
      "FAIL: runTest (mod.testing.test_operations.<locals>.TestKnown)\n",
      "----------------------------------------------------------------------\n",
      "Traceback (most recent call last):\n",
      "  File \"C:\\Users\\alber\\datamad1020\\module-1\\lab-functions\\mod\\testing.py\", line 78, in runTest\n",
      "    self.assertEqual(fn(*self.input), self.output, f\"Should be {self.output}\")\n",
      "AssertionError: 52 != 0 : Should be 0\n",
      "\n",
      "======================================================================\n",
      "FAIL: runTest (mod.testing.test_operations.<locals>.TestKnown)\n",
      "----------------------------------------------------------------------\n",
      "Traceback (most recent call last):\n",
      "  File \"C:\\Users\\alber\\datamad1020\\module-1\\lab-functions\\mod\\testing.py\", line 78, in runTest\n",
      "    self.assertEqual(fn(*self.input), self.output, f\"Should be {self.output}\")\n",
      "AssertionError: 45 != 0 : Should be 0\n",
      "\n",
      "======================================================================\n",
      "FAIL: runTest (mod.testing.test_operations.<locals>.TestKnown)\n",
      "----------------------------------------------------------------------\n",
      "Traceback (most recent call last):\n",
      "  File \"C:\\Users\\alber\\datamad1020\\module-1\\lab-functions\\mod\\testing.py\", line 78, in runTest\n",
      "    self.assertEqual(fn(*self.input), self.output, f\"Should be {self.output}\")\n",
      "AssertionError: 35 != 0 : Should be 0\n",
      "\n",
      "======================================================================\n",
      "FAIL: runTest (mod.testing.test_operations.<locals>.TestKnown)\n",
      "----------------------------------------------------------------------\n",
      "Traceback (most recent call last):\n",
      "  File \"C:\\Users\\alber\\datamad1020\\module-1\\lab-functions\\mod\\testing.py\", line 78, in runTest\n",
      "    self.assertEqual(fn(*self.input), self.output, f\"Should be {self.output}\")\n",
      "AssertionError: 38 != 0 : Should be 0\n",
      "\n",
      "======================================================================\n",
      "FAIL: runTest (mod.testing.test_operations.<locals>.TestKnown)\n",
      "----------------------------------------------------------------------\n",
      "Traceback (most recent call last):\n",
      "  File \"C:\\Users\\alber\\datamad1020\\module-1\\lab-functions\\mod\\testing.py\", line 78, in runTest\n",
      "    self.assertEqual(fn(*self.input), self.output, f\"Should be {self.output}\")\n",
      "AssertionError: -11 != 0 : Should be 0\n",
      "\n",
      "======================================================================\n",
      "FAIL: runTest (mod.testing.test_operations.<locals>.TestKnown)\n",
      "----------------------------------------------------------------------\n",
      "Traceback (most recent call last):\n",
      "  File \"C:\\Users\\alber\\datamad1020\\module-1\\lab-functions\\mod\\testing.py\", line 78, in runTest\n",
      "    self.assertEqual(fn(*self.input), self.output, f\"Should be {self.output}\")\n",
      "AssertionError: -2 != -93312000 : Should be -93312000\n",
      "\n",
      "======================================================================\n",
      "FAIL: runTest (mod.testing.test_operations.<locals>.TestKnown)\n",
      "----------------------------------------------------------------------\n",
      "Traceback (most recent call last):\n",
      "  File \"C:\\Users\\alber\\datamad1020\\module-1\\lab-functions\\mod\\testing.py\", line 78, in runTest\n",
      "    self.assertEqual(fn(*self.input), self.output, f\"Should be {self.output}\")\n",
      "AssertionError: 22 != 0 : Should be 0\n",
      "\n",
      "======================================================================\n",
      "FAIL: runTest (mod.testing.test_operations.<locals>.TestKnown)\n",
      "----------------------------------------------------------------------\n",
      "Traceback (most recent call last):\n",
      "  File \"C:\\Users\\alber\\datamad1020\\module-1\\lab-functions\\mod\\testing.py\", line 78, in runTest\n",
      "    self.assertEqual(fn(*self.input), self.output, f\"Should be {self.output}\")\n",
      "AssertionError: 70 != 0 : Should be 0\n",
      "\n",
      "======================================================================\n",
      "FAIL: runTest (mod.testing.test_operations.<locals>.TestKnown)\n",
      "----------------------------------------------------------------------\n",
      "Traceback (most recent call last):\n",
      "  File \"C:\\Users\\alber\\datamad1020\\module-1\\lab-functions\\mod\\testing.py\", line 78, in runTest\n",
      "    self.assertEqual(fn(*self.input), self.output, f\"Should be {self.output}\")\n",
      "AssertionError: -29 != 0 : Should be 0\n",
      "\n",
      "======================================================================\n",
      "FAIL: runTest (mod.testing.test_operations.<locals>.TestKnown)\n",
      "----------------------------------------------------------------------\n",
      "Traceback (most recent call last):\n",
      "  File \"C:\\Users\\alber\\datamad1020\\module-1\\lab-functions\\mod\\testing.py\", line 78, in runTest\n",
      "    self.assertEqual(fn(*self.input), self.output, f\"Should be {self.output}\")\n",
      "AssertionError: -41 != 0 : Should be 0\n",
      "\n",
      "======================================================================\n",
      "FAIL: runTest (mod.testing.test_operations.<locals>.TestKnown)\n",
      "----------------------------------------------------------------------\n",
      "Traceback (most recent call last):\n",
      "  File \"C:\\Users\\alber\\datamad1020\\module-1\\lab-functions\\mod\\testing.py\", line 78, in runTest\n",
      "    self.assertEqual(fn(*self.input), self.output, f\"Should be {self.output}\")\n",
      "AssertionError: 12 != 0 : Should be 0\n",
      "\n",
      "======================================================================\n",
      "FAIL: runTest (mod.testing.test_operations.<locals>.TestKnown)\n",
      "----------------------------------------------------------------------\n",
      "Traceback (most recent call last):\n",
      "  File \"C:\\Users\\alber\\datamad1020\\module-1\\lab-functions\\mod\\testing.py\", line 78, in runTest\n",
      "    self.assertEqual(fn(*self.input), self.output, f\"Should be {self.output}\")\n",
      "AssertionError: 35 != 0 : Should be 0\n",
      "\n",
      "======================================================================\n",
      "FAIL: runTest (mod.testing.test_operations.<locals>.TestKnown)\n",
      "----------------------------------------------------------------------\n",
      "Traceback (most recent call last):\n",
      "  File \"C:\\Users\\alber\\datamad1020\\module-1\\lab-functions\\mod\\testing.py\", line 78, in runTest\n",
      "    self.assertEqual(fn(*self.input), self.output, f\"Should be {self.output}\")\n",
      "AssertionError: 21 != 0 : Should be 0\n",
      "\n",
      "======================================================================\n",
      "FAIL: runTest (mod.testing.test_operations.<locals>.TestKnown)\n",
      "----------------------------------------------------------------------\n",
      "Traceback (most recent call last):\n",
      "  File \"C:\\Users\\alber\\datamad1020\\module-1\\lab-functions\\mod\\testing.py\", line 78, in runTest\n",
      "    self.assertEqual(fn(*self.input), self.output, f\"Should be {self.output}\")\n",
      "AssertionError: -14 != 0 : Should be 0\n",
      "\n",
      "======================================================================\n",
      "FAIL: runTest (mod.testing.test_operations.<locals>.TestKnown)\n",
      "----------------------------------------------------------------------\n",
      "Traceback (most recent call last):\n",
      "  File \"C:\\Users\\alber\\datamad1020\\module-1\\lab-functions\\mod\\testing.py\", line 78, in runTest\n",
      "    self.assertEqual(fn(*self.input), self.output, f\"Should be {self.output}\")\n",
      "AssertionError: 118 != 0 : Should be 0\n",
      "\n",
      "======================================================================\n",
      "FAIL: runTest (mod.testing.test_operations.<locals>.TestKnown)\n",
      "----------------------------------------------------------------------\n",
      "Traceback (most recent call last):\n",
      "  File \"C:\\Users\\alber\\datamad1020\\module-1\\lab-functions\\mod\\testing.py\", line 78, in runTest\n",
      "    self.assertEqual(fn(*self.input), self.output, f\"Should be {self.output}\")\n",
      "AssertionError: 101 != 0 : Should be 0\n",
      "\n",
      "======================================================================\n",
      "FAIL: runTest (mod.testing.test_operations.<locals>.TestKnown)\n",
      "----------------------------------------------------------------------\n",
      "Traceback (most recent call last):\n",
      "  File \"C:\\Users\\alber\\datamad1020\\module-1\\lab-functions\\mod\\testing.py\", line 78, in runTest\n",
      "    self.assertEqual(fn(*self.input), self.output, f\"Should be {self.output}\")\n",
      "AssertionError: 38 != 0 : Should be 0\n",
      "\n",
      "======================================================================\n",
      "FAIL: runTest (mod.testing.test_operations.<locals>.TestKnown)\n",
      "----------------------------------------------------------------------\n",
      "Traceback (most recent call last):\n",
      "  File \"C:\\Users\\alber\\datamad1020\\module-1\\lab-functions\\mod\\testing.py\", line 78, in runTest\n",
      "    self.assertEqual(fn(*self.input), self.output, f\"Should be {self.output}\")\n",
      "AssertionError: 3 != 0 : Should be 0\n",
      "\n",
      "======================================================================\n",
      "FAIL: runTest (mod.testing.test_operations.<locals>.TestKnown)\n",
      "----------------------------------------------------------------------\n",
      "Traceback (most recent call last):\n",
      "  File \"C:\\Users\\alber\\datamad1020\\module-1\\lab-functions\\mod\\testing.py\", line 78, in runTest\n",
      "    self.assertEqual(fn(*self.input), self.output, f\"Should be {self.output}\")\n",
      "AssertionError: 97 != 0 : Should be 0\n",
      "\n",
      "======================================================================\n",
      "FAIL: runTest (mod.testing.test_operations.<locals>.TestKnown)\n",
      "----------------------------------------------------------------------\n",
      "Traceback (most recent call last):\n",
      "  File \"C:\\Users\\alber\\datamad1020\\module-1\\lab-functions\\mod\\testing.py\", line 78, in runTest\n",
      "    self.assertEqual(fn(*self.input), self.output, f\"Should be {self.output}\")\n",
      "AssertionError: 23 != 0 : Should be 0\n",
      "\n",
      "======================================================================\n",
      "FAIL: runTest (mod.testing.test_operations.<locals>.TestKnown)\n",
      "----------------------------------------------------------------------\n",
      "Traceback (most recent call last):\n",
      "  File \"C:\\Users\\alber\\datamad1020\\module-1\\lab-functions\\mod\\testing.py\", line 78, in runTest\n",
      "    self.assertEqual(fn(*self.input), self.output, f\"Should be {self.output}\")\n",
      "AssertionError: -144 != 0 : Should be 0\n",
      "\n",
      "======================================================================\n",
      "FAIL: runTest (mod.testing.test_operations.<locals>.TestKnown)\n",
      "----------------------------------------------------------------------\n",
      "Traceback (most recent call last):\n",
      "  File \"C:\\Users\\alber\\datamad1020\\module-1\\lab-functions\\mod\\testing.py\", line 78, in runTest\n",
      "    self.assertEqual(fn(*self.input), self.output, f\"Should be {self.output}\")\n",
      "AssertionError: -79 != 0 : Should be 0\n",
      "\n",
      "======================================================================\n",
      "FAIL: runTest (mod.testing.test_operations.<locals>.TestKnown)\n",
      "----------------------------------------------------------------------\n",
      "Traceback (most recent call last):\n",
      "  File \"C:\\Users\\alber\\datamad1020\\module-1\\lab-functions\\mod\\testing.py\", line 78, in runTest\n",
      "    self.assertEqual(fn(*self.input), self.output, f\"Should be {self.output}\")\n",
      "AssertionError: -11 != 0 : Should be 0\n",
      "\n",
      "======================================================================\n",
      "FAIL: runTest (mod.testing.test_operations.<locals>.TestKnown)\n",
      "----------------------------------------------------------------------\n",
      "Traceback (most recent call last):\n",
      "  File \"C:\\Users\\alber\\datamad1020\\module-1\\lab-functions\\mod\\testing.py\", line 78, in runTest\n",
      "    self.assertEqual(fn(*self.input), self.output, f\"Should be {self.output}\")\n",
      "AssertionError: -39 != 0 : Should be 0\n",
      "\n",
      "======================================================================\n",
      "FAIL: runTest (mod.testing.test_operations.<locals>.TestKnown)\n",
      "----------------------------------------------------------------------\n",
      "Traceback (most recent call last):\n",
      "  File \"C:\\Users\\alber\\datamad1020\\module-1\\lab-functions\\mod\\testing.py\", line 78, in runTest\n",
      "    self.assertEqual(fn(*self.input), self.output, f\"Should be {self.output}\")\n",
      "AssertionError: 33 != 0 : Should be 0\n",
      "\n",
      "======================================================================\n",
      "FAIL: runTest (mod.testing.test_operations.<locals>.TestKnown)\n",
      "----------------------------------------------------------------------\n",
      "Traceback (most recent call last):\n",
      "  File \"C:\\Users\\alber\\datamad1020\\module-1\\lab-functions\\mod\\testing.py\", line 78, in runTest\n",
      "    self.assertEqual(fn(*self.input), self.output, f\"Should be {self.output}\")\n",
      "AssertionError: -35 != 0 : Should be 0\n",
      "\n",
      "======================================================================\n",
      "FAIL: runTest (mod.testing.test_operations.<locals>.TestKnown)\n",
      "----------------------------------------------------------------------\n",
      "Traceback (most recent call last):\n",
      "  File \"C:\\Users\\alber\\datamad1020\\module-1\\lab-functions\\mod\\testing.py\", line 78, in runTest\n",
      "    self.assertEqual(fn(*self.input), self.output, f\"Should be {self.output}\")\n",
      "AssertionError: 33 != 0 : Should be 0\n",
      "\n",
      "======================================================================\n",
      "FAIL: runTest (mod.testing.test_operations.<locals>.TestKnown)\n",
      "----------------------------------------------------------------------\n",
      "Traceback (most recent call last):\n",
      "  File \"C:\\Users\\alber\\datamad1020\\module-1\\lab-functions\\mod\\testing.py\", line 78, in runTest\n",
      "    self.assertEqual(fn(*self.input), self.output, f\"Should be {self.output}\")\n",
      "AssertionError: 131 != 0 : Should be 0\n",
      "\n",
      "======================================================================\n",
      "FAIL: runTest (mod.testing.test_operations.<locals>.TestKnown)\n",
      "----------------------------------------------------------------------\n",
      "Traceback (most recent call last):\n",
      "  File \"C:\\Users\\alber\\datamad1020\\module-1\\lab-functions\\mod\\testing.py\", line 78, in runTest\n",
      "    self.assertEqual(fn(*self.input), self.output, f\"Should be {self.output}\")\n",
      "AssertionError: 39 != 0 : Should be 0\n",
      "\n",
      "======================================================================\n",
      "FAIL: runTest (mod.testing.test_operations.<locals>.TestKnown)\n",
      "----------------------------------------------------------------------\n",
      "Traceback (most recent call last):\n",
      "  File \"C:\\Users\\alber\\datamad1020\\module-1\\lab-functions\\mod\\testing.py\", line 78, in runTest\n",
      "    self.assertEqual(fn(*self.input), self.output, f\"Should be {self.output}\")\n",
      "AssertionError: -50 != 0 : Should be 0\n",
      "\n",
      "======================================================================\n",
      "FAIL: runTest (mod.testing.test_operations.<locals>.TestKnown)\n",
      "----------------------------------------------------------------------\n",
      "Traceback (most recent call last):\n",
      "  File \"C:\\Users\\alber\\datamad1020\\module-1\\lab-functions\\mod\\testing.py\", line 78, in runTest\n",
      "    self.assertEqual(fn(*self.input), self.output, f\"Should be {self.output}\")\n",
      "AssertionError: 11 != 0 : Should be 0\n",
      "\n",
      "======================================================================\n",
      "FAIL: runTest (mod.testing.test_operations.<locals>.TestKnown)\n",
      "----------------------------------------------------------------------\n",
      "Traceback (most recent call last):\n",
      "  File \"C:\\Users\\alber\\datamad1020\\module-1\\lab-functions\\mod\\testing.py\", line 78, in runTest\n",
      "    self.assertEqual(fn(*self.input), self.output, f\"Should be {self.output}\")\n",
      "AssertionError: 27 != 0 : Should be 0\n",
      "\n",
      "======================================================================\n",
      "FAIL: runTest (mod.testing.test_operations.<locals>.TestKnown)\n",
      "----------------------------------------------------------------------\n",
      "Traceback (most recent call last):\n",
      "  File \"C:\\Users\\alber\\datamad1020\\module-1\\lab-functions\\mod\\testing.py\", line 78, in runTest\n",
      "    self.assertEqual(fn(*self.input), self.output, f\"Should be {self.output}\")\n",
      "AssertionError: -14 != 0 : Should be 0\n",
      "\n",
      "======================================================================\n",
      "FAIL: runTest (mod.testing.test_operations.<locals>.TestKnown)\n",
      "----------------------------------------------------------------------\n",
      "Traceback (most recent call last):\n",
      "  File \"C:\\Users\\alber\\datamad1020\\module-1\\lab-functions\\mod\\testing.py\", line 78, in runTest\n",
      "    self.assertEqual(fn(*self.input), self.output, f\"Should be {self.output}\")\n",
      "AssertionError: 17 != 0 : Should be 0\n",
      "\n",
      "======================================================================\n",
      "FAIL: runTest (mod.testing.test_operations.<locals>.TestKnown)\n",
      "----------------------------------------------------------------------\n",
      "Traceback (most recent call last):\n",
      "  File \"C:\\Users\\alber\\datamad1020\\module-1\\lab-functions\\mod\\testing.py\", line 78, in runTest\n",
      "    self.assertEqual(fn(*self.input), self.output, f\"Should be {self.output}\")\n",
      "AssertionError: 52 != 0 : Should be 0\n",
      "\n",
      "======================================================================\n",
      "FAIL: runTest (mod.testing.test_operations.<locals>.TestKnown)\n",
      "----------------------------------------------------------------------\n",
      "Traceback (most recent call last):\n",
      "  File \"C:\\Users\\alber\\datamad1020\\module-1\\lab-functions\\mod\\testing.py\", line 78, in runTest\n",
      "    self.assertEqual(fn(*self.input), self.output, f\"Should be {self.output}\")\n",
      "AssertionError: 109 != 0 : Should be 0\n",
      "\n",
      "======================================================================\n",
      "FAIL: runTest (mod.testing.test_operations.<locals>.TestKnown)\n",
      "----------------------------------------------------------------------\n",
      "Traceback (most recent call last):\n",
      "  File \"C:\\Users\\alber\\datamad1020\\module-1\\lab-functions\\mod\\testing.py\", line 78, in runTest\n",
      "    self.assertEqual(fn(*self.input), self.output, f\"Should be {self.output}\")\n",
      "AssertionError: -21 != 0 : Should be 0\n",
      "\n",
      "======================================================================\n",
      "FAIL: runTest (mod.testing.test_operations.<locals>.TestKnown)\n",
      "----------------------------------------------------------------------\n",
      "Traceback (most recent call last):\n",
      "  File \"C:\\Users\\alber\\datamad1020\\module-1\\lab-functions\\mod\\testing.py\", line 78, in runTest\n",
      "    self.assertEqual(fn(*self.input), self.output, f\"Should be {self.output}\")\n",
      "AssertionError: 7 != -93312000000 : Should be -93312000000\n",
      "\n",
      "======================================================================\n",
      "FAIL: runTest (mod.testing.test_operations.<locals>.TestKnown)\n",
      "----------------------------------------------------------------------\n",
      "Traceback (most recent call last):\n",
      "  File \"C:\\Users\\alber\\datamad1020\\module-1\\lab-functions\\mod\\testing.py\", line 78, in runTest\n",
      "    self.assertEqual(fn(*self.input), self.output, f\"Should be {self.output}\")\n",
      "AssertionError: 64 != 0 : Should be 0\n",
      "\n",
      "======================================================================\n"
     ]
    },
    {
     "name": "stderr",
     "output_type": "stream",
     "text": [
      "FAIL: runTest (mod.testing.test_operations.<locals>.TestKnown)\n",
      "----------------------------------------------------------------------\n",
      "Traceback (most recent call last):\n",
      "  File \"C:\\Users\\alber\\datamad1020\\module-1\\lab-functions\\mod\\testing.py\", line 78, in runTest\n",
      "    self.assertEqual(fn(*self.input), self.output, f\"Should be {self.output}\")\n",
      "AssertionError: 9 != 0 : Should be 0\n",
      "\n",
      "======================================================================\n",
      "FAIL: runTest (mod.testing.test_operations.<locals>.TestKnown)\n",
      "----------------------------------------------------------------------\n",
      "Traceback (most recent call last):\n",
      "  File \"C:\\Users\\alber\\datamad1020\\module-1\\lab-functions\\mod\\testing.py\", line 78, in runTest\n",
      "    self.assertEqual(fn(*self.input), self.output, f\"Should be {self.output}\")\n",
      "AssertionError: -19 != 0 : Should be 0\n",
      "\n",
      "======================================================================\n",
      "FAIL: runTest (mod.testing.test_operations.<locals>.TestKnown)\n",
      "----------------------------------------------------------------------\n",
      "Traceback (most recent call last):\n",
      "  File \"C:\\Users\\alber\\datamad1020\\module-1\\lab-functions\\mod\\testing.py\", line 78, in runTest\n",
      "    self.assertEqual(fn(*self.input), self.output, f\"Should be {self.output}\")\n",
      "AssertionError: 1 != -1170238183833600 : Should be -1170238183833600\n",
      "\n",
      "----------------------------------------------------------------------\n",
      "Ran 100 tests in 0.525s\n",
      "\n",
      "FAILED (failures=50)\n"
     ]
    }
   ],
   "source": [
    "# This will test your function \n",
    "test_operations(oper_all)"
   ]
  },
  {
   "cell_type": "markdown",
   "metadata": {},
   "source": [
    "## 6. Write a function that returns the factorial of a number."
   ]
  },
  {
   "cell_type": "code",
   "execution_count": 47,
   "metadata": {},
   "outputs": [],
   "source": [
    "def factorial(n):\n",
    "    if n < 2:\n",
    "        return 1\n",
    "    else:\n",
    "        return n * factorial(n-1)    \n",
    "    pass"
   ]
  },
  {
   "cell_type": "code",
   "execution_count": 48,
   "metadata": {},
   "outputs": [
    {
     "name": "stderr",
     "output_type": "stream",
     "text": [
      "....................................................................................................\n",
      "----------------------------------------------------------------------\n",
      "Ran 100 tests in 0.338s\n",
      "\n",
      "OK\n"
     ]
    }
   ],
   "source": [
    "# This will test your function \n",
    "test_factorial(factorial)"
   ]
  },
  {
   "cell_type": "markdown",
   "metadata": {},
   "source": [
    "## 7. Write a function that takes a list and returns a list of the unique values.\n",
    "\n",
    "`NOTE: You cannot use set. 🤔`"
   ]
  },
  {
   "cell_type": "code",
   "execution_count": 51,
   "metadata": {},
   "outputs": [],
   "source": [
    "def unique(arr):\n",
    "    uniques = []\n",
    "    for x in arr:\n",
    "        if x not in uniques: \n",
    "            uniques.append(x)\n",
    "    return uniques\n",
    "    pass"
   ]
  },
  {
   "cell_type": "code",
   "execution_count": 52,
   "metadata": {},
   "outputs": [
    {
     "name": "stderr",
     "output_type": "stream",
     "text": [
      "....................................................................................................\n",
      "----------------------------------------------------------------------\n",
      "Ran 100 tests in 0.943s\n",
      "\n",
      "OK\n"
     ]
    }
   ],
   "source": [
    "# This will test your function \n",
    "test_unique(unique)"
   ]
  },
  {
   "cell_type": "markdown",
   "metadata": {},
   "source": [
    "## 8. Write a function that returns the mode of a list, i.e.: the element that appears the most times.\n",
    "`NOTE: You should not use count... 🧐`"
   ]
  },
  {
   "cell_type": "code",
   "execution_count": null,
   "metadata": {},
   "outputs": [],
   "source": [
    "#######PENDIENTE\n",
    "def mode_counter(arr):\n",
    "    mode={}\n",
    "    for i in arr\n",
    "    pass"
   ]
  },
  {
   "cell_type": "code",
   "execution_count": null,
   "metadata": {},
   "outputs": [],
   "source": [
    "# This will test your function \n",
    "test_mode(mode_counter)"
   ]
  },
  {
   "cell_type": "markdown",
   "metadata": {},
   "source": [
    "## 9. Write a function that calculates the standard deviation of a list.\n",
    "`NOTE: Do not use any libraries or already built functions. 😉`"
   ]
  },
  {
   "cell_type": "code",
   "execution_count": null,
   "metadata": {},
   "outputs": [],
   "source": [
    "def st_dev(arr):\n",
    "    pass"
   ]
  },
  {
   "cell_type": "code",
   "execution_count": null,
   "metadata": {},
   "outputs": [],
   "source": [
    "# This will test your function \n",
    "test_stdev(st_dev)"
   ]
  },
  {
   "cell_type": "markdown",
   "metadata": {},
   "source": [
    "## 10. Write a function to check if a string is a pangram, i.e.: if it contains all the letters of the alphabet at least once."
   ]
  },
  {
   "cell_type": "code",
   "execution_count": 80,
   "metadata": {},
   "outputs": [],
   "source": [
    "def pangram(string):\n",
    "    if set('abcdefghijklmnopqrstuvwxyz') - set(string.lower()) == set():\n",
    "        return True\n",
    "    return False\n",
    "    pass"
   ]
  },
  {
   "cell_type": "code",
   "execution_count": 81,
   "metadata": {},
   "outputs": [
    {
     "name": "stderr",
     "output_type": "stream",
     "text": [
      "..............................\n",
      "----------------------------------------------------------------------\n",
      "Ran 30 tests in 0.076s\n",
      "\n",
      "OK\n"
     ]
    }
   ],
   "source": [
    "# This will test your function \n",
    "test_pangram(pangram)"
   ]
  },
  {
   "cell_type": "markdown",
   "metadata": {},
   "source": [
    "## 11. Write a function that receives a string of comma separated words and returns a string of comma separated words sorted alphabetically.\n",
    "\n",
    "`NOTE: You may use sorted but not split and definitely no join! 🤪`"
   ]
  },
  {
   "cell_type": "code",
   "execution_count": null,
   "metadata": {},
   "outputs": [],
   "source": [
    "def sort_alpha(string):\n",
    "    arr.sort()\n",
    "    pass"
   ]
  },
  {
   "cell_type": "code",
   "execution_count": null,
   "metadata": {},
   "outputs": [],
   "source": [
    "# This will test your function \n",
    "test_alpha(sort_alpha)"
   ]
  },
  {
   "cell_type": "markdown",
   "metadata": {},
   "source": [
    "## 12. Write a function to check if a given password is strong (at least 8 characters, at least one lower case, at least one upper case, at least one number and at least one special character). It should output True if strong and False if not.\n",
    "`Valid special characters: # @ ! $ % & ( ) ^ * [ ] { }`"
   ]
  },
  {
   "cell_type": "code",
   "execution_count": null,
   "metadata": {},
   "outputs": [],
   "source": [
    "def check_pass(string):      \n",
    "    special_characters =['$', '@', '#', '%'] \n",
    "    val = True\n",
    "    \n",
    "    if len(passwd) < 8:\n",
    "        val = False\n",
    "          \n",
    "    if string not \n",
    "        val = False\n",
    "          \n",
    "    if not any(special_characters): \n",
    "        val = False\n",
    "    if val: \n",
    "        return val \n",
    "    pass"
   ]
  },
  {
   "cell_type": "code",
   "execution_count": null,
   "metadata": {},
   "outputs": [],
   "source": [
    "# This will test your function \n",
    "test_pass(check_pass)"
   ]
  }
 ],
 "metadata": {
  "kernelspec": {
   "display_name": "Python 3",
   "language": "python",
   "name": "python3"
  },
  "language_info": {
   "codemirror_mode": {
    "name": "ipython",
    "version": 3
   },
   "file_extension": ".py",
   "mimetype": "text/x-python",
   "name": "python",
   "nbconvert_exporter": "python",
   "pygments_lexer": "ipython3",
   "version": "3.8.3"
  }
 },
 "nbformat": 4,
 "nbformat_minor": 4
}
